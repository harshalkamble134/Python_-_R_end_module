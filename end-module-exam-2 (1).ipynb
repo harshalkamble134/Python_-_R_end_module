{
 "cells": [
  {
   "cell_type": "markdown",
   "metadata": {},
   "source": [
    "# end-module-exam-2\n",
    "\n",
    "Use the \"Run\" button to execute the code."
   ]
  },
  {
   "cell_type": "code",
   "execution_count": null,
   "metadata": {},
   "outputs": [],
   "source": [
    "!pip install jovian --upgrade --quiet"
   ]
  },
  {
   "cell_type": "code",
   "execution_count": null,
   "metadata": {},
   "outputs": [],
   "source": [
    "import jovian"
   ]
  },
  {
   "cell_type": "code",
   "execution_count": null,
   "metadata": {},
   "outputs": [],
   "source": [
    "# Execute this to save new versions of the notebook\n",
    "jovian.commit(project=\"end-module-exam-2\")"
   ]
  },
  {
   "cell_type": "markdown",
   "metadata": {},
   "source": [
    "# Question 1:\n"
   ]
  },
  {
   "cell_type": "code",
   "execution_count": 3,
   "metadata": {},
   "outputs": [
    {
     "name": "stdout",
     "output_type": "stream",
     "text": [
      "Enter Hours: 4\n",
      "Enter Minutes: 20\n",
      "4 Hours and 20 Minutes in seconds is equals to 15600\n"
     ]
    }
   ],
   "source": [
    "hours=int(input(\"Enter Hours: \"))\n",
    "minuts=int(input(\"Enter Minutes: \"))\n",
    "second=(hours*3600)+(minuts*60)\n",
    "print(hours,\"Hours and\",minuts,\"Minutes in seconds is equals to\",second)"
   ]
  },
  {
   "cell_type": "markdown",
   "metadata": {},
   "source": [
    "# Question 8:\n"
   ]
  },
  {
   "cell_type": "code",
   "execution_count": 32,
   "metadata": {},
   "outputs": [
    {
     "name": "stdout",
     "output_type": "stream",
     "text": [
      "1  \n",
      "3 3  \n",
      "5 5 5  \n",
      "7 7 7 7  \n",
      "9 9 9 9 9  \n"
     ]
    }
   ],
   "source": [
    "num=5\n",
    "i=1\n",
    "while(i<=num):\n",
    "    j=1\n",
    "    while(j<=i):\n",
    "        print((i*2-1),end=\" \")\n",
    "        j=j+1\n",
    "    i=i+1\n",
    "    print(\" \")\n",
    "    "
   ]
  },
  {
   "cell_type": "markdown",
   "metadata": {},
   "source": [
    "# Question 5:"
   ]
  },
  {
   "cell_type": "code",
   "execution_count": 17,
   "metadata": {},
   "outputs": [],
   "source": [
    "class Math:\n",
    "    def __init__(self,a,b):\n",
    "        self.a=a\n",
    "        self.b=b\n",
    "    def Add(self):\n",
    "        return self.a+self.b\n",
    "    def Sub(self):\n",
    "        return self.a-self.b\n",
    "    def Mul(self):\n",
    "        return self.a*self.b\n",
    "    def Div(self):\n",
    "        return self.a/self.b"
   ]
  },
  {
   "cell_type": "markdown",
   "metadata": {},
   "source": [
    "# Question 10:"
   ]
  },
  {
   "cell_type": "code",
   "execution_count": 20,
   "metadata": {},
   "outputs": [],
   "source": [
    "z=Math(10,5)"
   ]
  },
  {
   "cell_type": "code",
   "execution_count": 21,
   "metadata": {},
   "outputs": [
    {
     "name": "stdout",
     "output_type": "stream",
     "text": [
      "15\n",
      "5\n",
      "50\n",
      "2.0\n"
     ]
    }
   ],
   "source": [
    "print(z.Add())\n",
    "print(z.Sub())\n",
    "print(z.Mul())\n",
    "print(z.Div())"
   ]
  },
  {
   "cell_type": "markdown",
   "metadata": {},
   "source": [
    "# Question 6:"
   ]
  },
  {
   "cell_type": "code",
   "execution_count": 30,
   "metadata": {},
   "outputs": [
    {
     "name": "stdout",
     "output_type": "stream",
     "text": [
      "enter a Stringdghhjk#\n",
      "letters 1\n",
      "digits 0\n",
      "symbols 0\n",
      "letters 2\n",
      "digits 0\n",
      "symbols 0\n",
      "letters 3\n",
      "digits 0\n",
      "symbols 0\n",
      "letters 4\n",
      "digits 0\n",
      "symbols 0\n",
      "letters 5\n",
      "digits 0\n",
      "symbols 0\n",
      "letters 6\n",
      "digits 0\n",
      "symbols 0\n",
      "letters 6\n",
      "digits 0\n",
      "symbols 0\n"
     ]
    }
   ],
   "source": [
    "a=input(\"enter a String\")\n",
    "d=l=s=0\n",
    "for c in a:\n",
    "    if c.isdigit():\n",
    "        d=d+1\n",
    "    elif c.isalpha():\n",
    "        l=l+1\n",
    "    else:\n",
    "        s=s+1\n",
    "    print(\"letters\",l)\n",
    "    print(\"digits\",d)\n",
    "    print(\"symbols\",d)"
   ]
  },
  {
   "cell_type": "markdown",
   "metadata": {},
   "source": [
    "# Question 3:"
   ]
  },
  {
   "cell_type": "code",
   "execution_count": 35,
   "metadata": {},
   "outputs": [
    {
     "name": "stdout",
     "output_type": "stream",
     "text": [
      "1  \n",
      "1 0  \n",
      "1 0 1  \n",
      "1 0 1 0  \n",
      "1 0 1 0 1  \n"
     ]
    }
   ],
   "source": [
    "for i in range(1,6):\n",
    "    for j in range(1,i+1):\n",
    "        print(j%2,end=\" \")\n",
    "    print(\" \")\n",
    "    "
   ]
  },
  {
   "cell_type": "markdown",
   "metadata": {},
   "source": []
  },
  {
   "cell_type": "markdown",
   "metadata": {},
   "source": [
    "# Question 4:"
   ]
  },
  {
   "cell_type": "code",
   "execution_count": 39,
   "metadata": {},
   "outputs": [
    {
     "name": "stdout",
     "output_type": "stream",
     "text": [
      "Enter the Number: 123\n",
      "One \n",
      "Two \n",
      "Three\n"
     ]
    }
   ],
   "source": [
    "\n",
    "\n",
    "#Write a code to accept a number & print\n",
    "#in words.\n",
    "#Ex: 123\n",
    "\n",
    "\n",
    "num=input(\"Enter the Number: \")\n",
    "for digit in num:\n",
    "    if digit == '0':\n",
    "        print(\"Zero \")\n",
    "    elif digit == '1':\n",
    "        print(\"One \")\n",
    "    elif digit == '2':\n",
    "        print(\"Two \",)\n",
    "    elif digit=='3':\n",
    "        print(\"Three\")\n",
    "    elif digit == '4':\n",
    "        print(\"Four \")\n",
    "    elif digit == '5':\n",
    "        print(\"Five \")\n",
    "    elif digit == '6':\n",
    "        print(\"Six \")\n",
    "    elif digit == '7':\n",
    "        print(\"Seven\")\n",
    "    elif digit == '8':\n",
    "        print(\"Eight\")\n",
    "    elif digit == '9':\n",
    "        print(\"Nine \")"
   ]
  },
  {
   "cell_type": "markdown",
   "metadata": {},
   "source": [
    "# Question 9:"
   ]
  },
  {
   "cell_type": "code",
   "execution_count": 29,
   "metadata": {},
   "outputs": [
    {
     "name": "stdout",
     "output_type": "stream",
     "text": [
      "Enter String: harshal\n",
      "asa"
     ]
    }
   ],
   "source": [
    "a=input(\"Enter String: \")\n",
    "for i in a[1:len(a):2]:\n",
    "    print(i,end=\"\")"
   ]
  },
  {
   "cell_type": "code",
   "execution_count": null,
   "metadata": {},
   "outputs": [],
   "source": []
  },
  {
   "cell_type": "code",
   "execution_count": null,
   "metadata": {},
   "outputs": [],
   "source": []
  },
  {
   "cell_type": "code",
   "execution_count": null,
   "metadata": {},
   "outputs": [],
   "source": []
  }
 ],
 "metadata": {
  "kernelspec": {
   "display_name": "Python 3 (ipykernel)",
   "language": "python",
   "name": "python3"
  },
  "language_info": {
   "codemirror_mode": {
    "name": "ipython",
    "version": 3
   },
   "file_extension": ".py",
   "mimetype": "text/x-python",
   "name": "python",
   "nbconvert_exporter": "python",
   "pygments_lexer": "ipython3",
   "version": "3.9.6"
  }
 },
 "nbformat": 4,
 "nbformat_minor": 2
}
